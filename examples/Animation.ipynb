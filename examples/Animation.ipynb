{
 "cells": [
  {
   "cell_type": "markdown",
   "id": "6e5dbfa5-9fb7-40d2-b483-74e27db056d7",
   "metadata": {},
   "source": [
    "# Animation\n",
    "This example shows how to create a simple animation by combining multiple snapshots, then saving them as a video. \n",
    "\n",
    "![SegmentLocal](files/viz.gif \"segment\")\n",
    "\n",
    "To start let's import the `Animation` class from our toolkit."
   ]
  },
  {
   "cell_type": "code",
   "execution_count": 1,
   "id": "0111b889-b0ba-4fc1-9f77-6485350d4b22",
   "metadata": {},
   "outputs": [],
   "source": [
    "from viztools import Animation\n",
    "import os"
   ]
  },
  {
   "cell_type": "markdown",
   "id": "01bee737-a93e-4c33-8d8a-6414b2e2e0c7",
   "metadata": {},
   "source": [
    "We'll also make a directory to hold the files generated during the animation. "
   ]
  },
  {
   "cell_type": "code",
   "execution_count": 4,
   "id": "0f71ed15-2569-43d8-9855-4f2a4a1010cd",
   "metadata": {},
   "outputs": [
    {
     "name": "stdout",
     "output_type": "stream",
     "text": [
      "directory already exists\n"
     ]
    }
   ],
   "source": [
    "region = 'slc_ut'\n",
    "start = '2021-08-02'\n",
    "end = '2021-08-13'\n",
    "variance = 100\n",
    "path = f'/Users/tombo/Movies/animations/{region}/{start}_{end}/var{variance}'\n",
    "try:\n",
    "    os.makedirs(path)\n",
    "except FileExistsError:\n",
    "    print('directory already exists')"
   ]
  },
  {
   "cell_type": "markdown",
   "id": "bc01a443-e6da-4ba9-99e5-4c18be0fd6b4",
   "metadata": {},
   "source": [
    "Now let's create a new instance and run the animation process:"
   ]
  },
  {
   "cell_type": "code",
   "execution_count": 5,
   "id": "bf296d09-a35e-4419-901b-e360d2743c7d",
   "metadata": {},
   "outputs": [
    {
     "ename": "TypeError",
     "evalue": "create_animation() got an unexpected keyword argument 'save_overlays'",
     "output_type": "error",
     "traceback": [
      "\u001b[0;31m---------------------------------------------------------------------------\u001b[0m",
      "\u001b[0;31mTypeError\u001b[0m                                 Traceback (most recent call last)",
      "Input \u001b[0;32mIn [5]\u001b[0m, in \u001b[0;36m<cell line: 9>\u001b[0;34m()\u001b[0m\n\u001b[1;32m      1\u001b[0m video \u001b[38;5;241m=\u001b[39m Animation(\n\u001b[1;32m      2\u001b[0m     region\u001b[38;5;241m=\u001b[39mregion,\n\u001b[1;32m      3\u001b[0m     start\u001b[38;5;241m=\u001b[39m\u001b[38;5;124mf\u001b[39m\u001b[38;5;124m'\u001b[39m\u001b[38;5;132;01m{\u001b[39;00mstart\u001b[38;5;132;01m}\u001b[39;00m\u001b[38;5;124mT00:00:00Z\u001b[39m\u001b[38;5;124m'\u001b[39m,\n\u001b[0;32m   (...)\u001b[0m\n\u001b[1;32m      7\u001b[0m     include_timestamp\u001b[38;5;241m=\u001b[39m\u001b[38;5;28;01mTrue\u001b[39;00m\n\u001b[1;32m      8\u001b[0m )\n\u001b[0;32m----> 9\u001b[0m \u001b[43mvideo\u001b[49m\u001b[38;5;241;43m.\u001b[39;49m\u001b[43mcreate_animation\u001b[49m\u001b[43m(\u001b[49m\u001b[43mdirname\u001b[49m\u001b[38;5;241;43m=\u001b[39;49m\u001b[43mpath\u001b[49m\u001b[43m,\u001b[49m\u001b[43m \u001b[49m\u001b[43mfps\u001b[49m\u001b[38;5;241;43m=\u001b[39;49m\u001b[38;5;241;43m20\u001b[39;49m\u001b[43m,\u001b[49m\u001b[43msave_overlays\u001b[49m\u001b[38;5;241;43m=\u001b[39;49m\u001b[38;5;28;43;01mTrue\u001b[39;49;00m\u001b[43m)\u001b[49m\n",
      "\u001b[0;31mTypeError\u001b[0m: create_animation() got an unexpected keyword argument 'save_overlays'"
     ]
    }
   ],
   "source": [
    "video = Animation(\n",
    "    region=region,\n",
    "    start=f'{start}T00:00:00Z',\n",
    "    end=f'{end}T00:00:00Z',\n",
    "    zoom=11,\n",
    "    opac05=variance,\n",
    "    include_timestamp=True\n",
    ")\n",
    "video.create_animation(dirname=path, fps=20,save_overlays=True)"
   ]
  },
  {
   "cell_type": "code",
   "execution_count": 8,
   "id": "d752fd4e-a7ed-4357-86c7-4c53ec384e77",
   "metadata": {},
   "outputs": [],
   "source": [
    "!open ~/Downloads/animations"
   ]
  },
  {
   "cell_type": "code",
   "execution_count": null,
   "id": "4c3c3cb7-a159-4d9b-9a5f-8a3a1fb7c843",
   "metadata": {},
   "outputs": [],
   "source": []
  }
 ],
 "metadata": {
  "kernelspec": {
   "display_name": "Python 3 (ipykernel)",
   "language": "python",
   "name": "python3"
  },
  "language_info": {
   "codemirror_mode": {
    "name": "ipython",
    "version": 3
   },
   "file_extension": ".py",
   "mimetype": "text/x-python",
   "name": "python",
   "nbconvert_exporter": "python",
   "pygments_lexer": "ipython3",
   "version": "3.8.8"
  }
 },
 "nbformat": 4,
 "nbformat_minor": 5
}
