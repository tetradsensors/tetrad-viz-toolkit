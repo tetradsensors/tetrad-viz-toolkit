{
 "cells": [
  {
   "cell_type": "markdown",
   "id": "6e5dbfa5-9fb7-40d2-b483-74e27db056d7",
   "metadata": {},
   "source": [
    "# Animation\n",
    "This example shows how to create a simple animation by combining multiple snapshots, then saving them as a video. \n",
    "\n",
    "![SegmentLocal](files/viz.gif \"segment\")\n",
    "\n",
    "To start let's import the `Animation` class from our toolkit."
   ]
  },
  {
   "cell_type": "code",
   "execution_count": 1,
   "id": "0111b889-b0ba-4fc1-9f77-6485350d4b22",
   "metadata": {},
   "outputs": [],
   "source": [
    "from viztools import Animation"
   ]
  },
  {
   "cell_type": "markdown",
   "id": "01bee737-a93e-4c33-8d8a-6414b2e2e0c7",
   "metadata": {},
   "source": [
    "We'll also make a directory to hold the files generated during the animation. "
   ]
  },
  {
   "cell_type": "code",
   "execution_count": 2,
   "id": "0f71ed15-2569-43d8-9855-4f2a4a1010cd",
   "metadata": {},
   "outputs": [
    {
     "name": "stdout",
     "output_type": "stream",
     "text": [
      "mkdir: /tmp/animation: File exists\r\n"
     ]
    }
   ],
   "source": [
    "!mkdir /tmp/animation"
   ]
  },
  {
   "cell_type": "markdown",
   "id": "bc01a443-e6da-4ba9-99e5-4c18be0fd6b4",
   "metadata": {},
   "source": [
    "Now let's create a new instance and run the animation process:"
   ]
  },
  {
   "cell_type": "code",
   "execution_count": 3,
   "id": "bf296d09-a35e-4419-901b-e360d2743c7d",
   "metadata": {},
   "outputs": [
    {
     "name": "stdout",
     "output_type": "stream",
     "text": [
      " Progress |████████████████████████████████████████████████████████████████████████████████████████████████████| 100.0% [2022-01-01 01:00:00+00:00] [Time remaining: 0:00:00]\n",
      "\n",
      "releasing video: /tmp/animation/animation.avi\n"
     ]
    }
   ],
   "source": [
    "video = Animation(\n",
    "    region='slc_ut',\n",
    "    start='2022-01-01T00:00:00Z',\n",
    "    end='2022-01-01T01:00:00Z',\n",
    "    zoom=11\n",
    ")\n",
    "video.create_animation(dirname='/tmp/animation', fps=4)"
   ]
  },
  {
   "cell_type": "markdown",
   "id": "4e2a6a28-9648-41b8-99ea-e014dcf5ba71",
   "metadata": {},
   "source": [
    "Let's see what everything looks like. "
   ]
  },
  {
   "cell_type": "code",
   "execution_count": 9,
   "id": "a714b785-bfc5-408d-aea5-c1b3f90addab",
   "metadata": {},
   "outputs": [],
   "source": [
    "!open /tmp/animation"
   ]
  }
 ],
 "metadata": {
  "kernelspec": {
   "display_name": "Python 3 (ipykernel)",
   "language": "python",
   "name": "python3"
  },
  "language_info": {
   "codemirror_mode": {
    "name": "ipython",
    "version": 3
   },
   "file_extension": ".py",
   "mimetype": "text/x-python",
   "name": "python",
   "nbconvert_exporter": "python",
   "pygments_lexer": "ipython3",
   "version": "3.8.8"
  }
 },
 "nbformat": 4,
 "nbformat_minor": 5
}
