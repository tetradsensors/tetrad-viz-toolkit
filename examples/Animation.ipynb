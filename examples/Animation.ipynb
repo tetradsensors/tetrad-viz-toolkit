{
 "cells": [
  {
   "cell_type": "markdown",
   "id": "6e5dbfa5-9fb7-40d2-b483-74e27db056d7",
   "metadata": {},
   "source": [
    "# Animation\n",
    "This example shows how to create a simple animation by combining multiple snapshots, then saving them as a video. \n",
    "\n",
    "![SegmentLocal](files/viz.gif \"segment\")\n",
    "\n",
    "To start let's import the `Animation` class from our toolkit."
   ]
  },
  {
   "cell_type": "code",
   "execution_count": 1,
   "id": "0111b889-b0ba-4fc1-9f77-6485350d4b22",
   "metadata": {},
   "outputs": [],
   "source": [
    "from viztools import Animation\n",
    "import os"
   ]
  },
  {
   "cell_type": "markdown",
   "id": "01bee737-a93e-4c33-8d8a-6414b2e2e0c7",
   "metadata": {},
   "source": [
    "We'll also make a directory to hold the files generated during the animation. "
   ]
  },
  {
   "cell_type": "code",
   "execution_count": 3,
   "id": "0f71ed15-2569-43d8-9855-4f2a4a1010cd",
   "metadata": {},
   "outputs": [],
   "source": [
    "region = 'slc_ut'\n",
    "start = '2021-08-02'\n",
    "end = '2021-08-13'\n",
    "variance = 100\n",
    "path = f'/Users/tombo/Movies/animations/{region}/{start}_{end}/var{variance}'\n",
    "os.makedirs(path)"
   ]
  },
  {
   "cell_type": "markdown",
   "id": "bc01a443-e6da-4ba9-99e5-4c18be0fd6b4",
   "metadata": {},
   "source": [
    "Now let's create a new instance and run the animation process:"
   ]
  },
  {
   "cell_type": "code",
   "execution_count": 18,
   "id": "bf296d09-a35e-4419-901b-e360d2743c7d",
   "metadata": {},
   "outputs": [
    {
     "name": "stdout",
     "output_type": "stream",
     "text": [
      "404 GET https://storage.googleapis.com/download/storage/v1/b/tetrad_estimate_maps/o/2022%2F07%20July%2Fpv_ma%2Fpv_ma_2022-07-04T16%3A00%3A00Z.json?alt=media: No such object: tetrad_estimate_maps/2022/07 July/pv_ma/pv_ma_2022-07-04T16:00:00Z.json: ('Request failed with status code', 404, 'Expected one of', <HTTPStatus.OK: 200>, <HTTPStatus.PARTIAL_CONTENT: 206>)\n",
      "404 GET https://storage.googleapis.com/download/storage/v1/b/tetrad_estimate_maps/o/2022%2F07%20July%2Fpv_ma%2Fpv_ma_2022-07-05T06%3A45%3A00Z.json?alt=media: No such object: tetrad_estimate_maps/2022/07 July/pv_ma/pv_ma_2022-07-05T06:45:00Z.json: ('Request failed with status code', 404, 'Expected one of', <HTTPStatus.OK: 200>, <HTTPStatus.PARTIAL_CONTENT: 206>)\n",
      "404 GET https://storage.googleapis.com/download/storage/v1/b/tetrad_estimate_maps/o/2022%2F07%20July%2Fpv_ma%2Fpv_ma_2022-07-05T15%3A15%3A00Z.json?alt=media: No such object: tetrad_estimate_maps/2022/07 July/pv_ma/pv_ma_2022-07-05T15:15:00Z.json: ('Request failed with status code', 404, 'Expected one of', <HTTPStatus.OK: 200>, <HTTPStatus.PARTIAL_CONTENT: 206>)\n",
      "404 GET https://storage.googleapis.com/download/storage/v1/b/tetrad_estimate_maps/o/2022%2F07%20July%2Fpv_ma%2Fpv_ma_2022-07-06T08%3A30%3A00Z.json?alt=media: No such object: tetrad_estimate_maps/2022/07 July/pv_ma/pv_ma_2022-07-06T08:30:00Z.json: ('Request failed with status code', 404, 'Expected one of', <HTTPStatus.OK: 200>, <HTTPStatus.PARTIAL_CONTENT: 206>)\n",
      "404 GET https://storage.googleapis.com/download/storage/v1/b/tetrad_estimate_maps/o/2022%2F07%20July%2Fpv_ma%2Fpv_ma_2022-07-06T08%3A45%3A00Z.json?alt=media: No such object: tetrad_estimate_maps/2022/07 July/pv_ma/pv_ma_2022-07-06T08:45:00Z.json: ('Request failed with status code', 404, 'Expected one of', <HTTPStatus.OK: 200>, <HTTPStatus.PARTIAL_CONTENT: 206>)\n",
      "404 GET https://storage.googleapis.com/download/storage/v1/b/tetrad_estimate_maps/o/2022%2F07%20July%2Fpv_ma%2Fpv_ma_2022-07-06T17%3A15%3A00Z.json?alt=media: No such object: tetrad_estimate_maps/2022/07 July/pv_ma/pv_ma_2022-07-06T17:15:00Z.json: ('Request failed with status code', 404, 'Expected one of', <HTTPStatus.OK: 200>, <HTTPStatus.PARTIAL_CONTENT: 206>)\n",
      " Progress |████████████████████████████████████████████████████████████████████████████████████████████████████| 100.0% [2022-07-07 00:00:00+00:00] [Time remaining: 0:00:00]\n",
      "\n",
      "releasing video: /Users/tombo/Downloads/animations/pv_ma/2022-07-04_2022-07-07/var100/animation.avi\n"
     ]
    }
   ],
   "source": [
    "video = Animation(\n",
    "    region=region,\n",
    "    start=f'{start}T00:00:00Z',\n",
    "    end=f'{end}T00:00:00Z',\n",
    "    zoom=11,\n",
    "    opac05=variance,\n",
    "    include_timestamp=True\n",
    ")\n",
    "video.create_animation(dirname=path, fps=20)"
   ]
  },
  {
   "cell_type": "code",
   "execution_count": 8,
   "id": "d752fd4e-a7ed-4357-86c7-4c53ec384e77",
   "metadata": {},
   "outputs": [],
   "source": [
    "!open ~/Downloads/animations"
   ]
  },
  {
   "cell_type": "code",
   "execution_count": null,
   "id": "4c3c3cb7-a159-4d9b-9a5f-8a3a1fb7c843",
   "metadata": {},
   "outputs": [],
   "source": []
  }
 ],
 "metadata": {
  "kernelspec": {
   "display_name": "Python 3 (ipykernel)",
   "language": "python",
   "name": "python3"
  },
  "language_info": {
   "codemirror_mode": {
    "name": "ipython",
    "version": 3
   },
   "file_extension": ".py",
   "mimetype": "text/x-python",
   "name": "python",
   "nbconvert_exporter": "python",
   "pygments_lexer": "ipython3",
   "version": "3.8.8"
  }
 },
 "nbformat": 4,
 "nbformat_minor": 5
}
