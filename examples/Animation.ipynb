{
 "cells": [
  {
   "cell_type": "markdown",
   "id": "6e5dbfa5-9fb7-40d2-b483-74e27db056d7",
   "metadata": {},
   "source": [
    "# Animation\n",
    "This example shows how to create a simple animation by combining multiple snapshots, then saving them as a video. \n",
    "\n",
    "![SegmentLocal](files/viz.gif \"segment\")\n",
    "\n",
    "To start let's import the `Animation` class from our toolkit."
   ]
  },
  {
   "cell_type": "code",
   "execution_count": 1,
   "id": "0111b889-b0ba-4fc1-9f77-6485350d4b22",
   "metadata": {},
   "outputs": [],
   "source": [
    "from viztools import Animation\n",
    "import os"
   ]
  },
  {
   "cell_type": "markdown",
   "id": "01bee737-a93e-4c33-8d8a-6414b2e2e0c7",
   "metadata": {},
   "source": [
    "We'll also make a directory to hold the files generated during the animation. "
   ]
  },
  {
   "cell_type": "code",
   "execution_count": 3,
   "id": "0f71ed15-2569-43d8-9855-4f2a4a1010cd",
   "metadata": {},
   "outputs": [
    {
     "name": "stdout",
     "output_type": "stream",
     "text": [
      "directory already exists\n"
     ]
    }
   ],
   "source": [
    "region = 'slc_ut'\n",
    "start = '2021-08-02'\n",
    "end = '2021-08-13'\n",
    "variance = 100\n",
    "path = f'/Users/tombo/Movies/animations/{region}/{start}_{end}/var{variance}'\n",
    "try:\n",
    "    os.makedirs(path)\n",
    "except FileExistsError:\n",
    "    print('directory already exists')"
   ]
  },
  {
   "cell_type": "markdown",
   "id": "bc01a443-e6da-4ba9-99e5-4c18be0fd6b4",
   "metadata": {},
   "source": [
    "Now let's create a new instance and run the animation process:"
   ]
  },
  {
   "cell_type": "code",
   "execution_count": null,
   "id": "bf296d09-a35e-4419-901b-e360d2743c7d",
   "metadata": {},
   "outputs": [
    {
     "name": "stdout",
     "output_type": "stream",
     "text": [
      "Saving overlays\n"
     ]
    }
   ],
   "source": [
    "video = Animation(\n",
    "    region=region,\n",
    "    start=f'{start}T00:00:00Z',\n",
    "    end=f'{end}T00:00:00Z',\n",
    "    zoom=11,\n",
    "    opac05=variance,\n",
    "    include_timestamp=True\n",
    ")\n",
    "video.create_animation(dirname=path, fps=20,save_overlays=True)"
   ]
  },
  {
   "cell_type": "code",
   "execution_count": null,
   "id": "0265a8cf-0bd6-4edb-967a-0a580e1bf0bc",
   "metadata": {},
   "outputs": [],
   "source": []
  }
 ],
 "metadata": {
  "kernelspec": {
   "display_name": "Python 3 (ipykernel)",
   "language": "python",
   "name": "python3"
  },
  "language_info": {
   "codemirror_mode": {
    "name": "ipython",
    "version": 3
   },
   "file_extension": ".py",
   "mimetype": "text/x-python",
   "name": "python",
   "nbconvert_exporter": "python",
   "pygments_lexer": "ipython3",
   "version": "3.8.8"
  }
 },
 "nbformat": 4,
 "nbformat_minor": 5
}
