{
 "cells": [
  {
   "cell_type": "markdown",
   "id": "cddf364d",
   "metadata": {},
   "source": [
    "# Static Snapshot Map\n",
    "\n",
    "This example shows how to download a region estimate map snapshot from Tetrad's Google Storage database and display it as an overlay on a map, like the image below.\n",
    "\n",
    "![Static Map](files/map.png \"Static Map\")"
   ]
  },
  {
   "cell_type": "markdown",
   "id": "968eb8c3",
   "metadata": {},
   "source": [
    "The `StaticViz` object extends a Folium Map and is used to create static visualizations."
   ]
  },
  {
   "cell_type": "code",
   "execution_count": 17,
   "id": "fb7cdae8",
   "metadata": {},
   "outputs": [],
   "source": [
    "from viztools import StaticViz\n",
    "import requests"
   ]
  },
  {
   "cell_type": "markdown",
   "id": "b9adf125",
   "metadata": {},
   "source": [
    "First we create a new instance by downloading a snapshot from our server. Currently this is the only form of data you can add to a StaticViz object. \n",
    "\n",
    "Snapshots on our server are categorized according to region (`slc_ut`, `clev_oh`, `chatt_tn`, `kc_mo`) and snapshots are created at 15-minute intervals. Let's create a `StaticViz` object by downloading some data:"
   ]
  },
  {
   "cell_type": "code",
   "execution_count": 18,
   "id": "78a86a96",
   "metadata": {},
   "outputs": [
    {
     "name": "stdout",
     "output_type": "stream",
     "text": [
      "(0, 15, 30, 45, 60, 75) ((105, 159, 64), (255, 190, 63), (250, 121, 29), (201, 52, 45), (176, 10, 87), (128, 8, 78))\n"
     ]
    }
   ],
   "source": [
    "viz = StaticViz.from_gs(\n",
    "        region='slc_ut',\n",
    "        timestamp='2022-01-28T15:00:00Z',\n",
    "        zoom=11)"
   ]
  },
  {
   "cell_type": "markdown",
   "id": "910f3200-b9ff-4314-af8f-19e6ba1be48b",
   "metadata": {},
   "source": [
    "When we download the snapshot, a few things happen automatically. First an image is created from the snapshot. Next, a Folium Map is intialized at the geographical center of the snapshot. Finally, the image is overlaid onto the Folium Map. \n",
    "\n",
    "Now that we have every created, let's see how it looks. We can save it directly to an HTML file and view it in our browser."
   ]
  },
  {
   "cell_type": "code",
   "execution_count": 20,
   "id": "b7a69f87-eb6d-438d-a97b-dedcd8383e46",
   "metadata": {},
   "outputs": [
    {
     "name": "stdout",
     "output_type": "stream",
     "text": [
      "Saving map to: /tmp/map.html\n"
     ]
    }
   ],
   "source": [
    "viz.save_map('/tmp/map.html')\n",
    "!open /tmp/map.html"
   ]
  },
  {
   "cell_type": "markdown",
   "id": "2a5e97d8-1f03-48d7-9cdb-7679cfd90728",
   "metadata": {},
   "source": [
    "We can also save it to a PNG by taking a screenshot, which uses `selenium` under the hood."
   ]
  },
  {
   "cell_type": "code",
   "execution_count": 21,
   "id": "a18653d1-e9c6-46a1-ae2f-02849d61e552",
   "metadata": {},
   "outputs": [
    {
     "name": "stdout",
     "output_type": "stream",
     "text": [
      "Saving map to: /tmp/map.png\n"
     ]
    }
   ],
   "source": [
    "viz.save_map('/tmp/map.png')\n",
    "!open /tmp/map.png"
   ]
  }
 ],
 "metadata": {
  "kernelspec": {
   "display_name": "Python 3 (ipykernel)",
   "language": "python",
   "name": "python3"
  },
  "language_info": {
   "codemirror_mode": {
    "name": "ipython",
    "version": 3
   },
   "file_extension": ".py",
   "mimetype": "text/x-python",
   "name": "python",
   "nbconvert_exporter": "python",
   "pygments_lexer": "ipython3",
   "version": "3.8.8"
  }
 },
 "nbformat": 4,
 "nbformat_minor": 5
}
